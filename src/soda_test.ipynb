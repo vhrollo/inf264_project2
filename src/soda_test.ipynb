{
 "cells": [
  {
   "cell_type": "code",
   "execution_count": 35,
   "metadata": {},
   "outputs": [],
   "source": [
    "#get dependencies\n",
    "import pandas as pd\n",
    "import numpy as np\n",
    "import matplotlib.pyplot as plt\n",
    "import seaborn as sns\n",
    "import torch\n",
    "import keras\n",
    "import preprocessing"
   ]
  },
  {
   "cell_type": "code",
   "execution_count": 36,
   "metadata": {},
   "outputs": [],
   "source": [
    "#set seed\n",
    "seed = 42\n",
    "np.random.seed(seed)\n",
    "keras.utils.set_random_seed(seed)"
   ]
  },
  {
   "cell_type": "code",
   "execution_count": 37,
   "metadata": {},
   "outputs": [
    {
     "name": "stdout",
     "output_type": "stream",
     "text": [
      "(9834, 400) (9834,)\n"
     ]
    }
   ],
   "source": [
    "dataset = np.load('../data/dataset.npz',)\n",
    "X, y = dataset['X'], dataset['y']\n",
    "print(X.shape, y.shape)"
   ]
  },
  {
   "cell_type": "code",
   "execution_count": 38,
   "metadata": {},
   "outputs": [
    {
     "data": {
      "image/png": "[encoded data removed]",
      "text/plain": [
       "<Figure size 640x480 with 1 Axes>"
      ]
     },
     "metadata": {},
     "output_type": "display_data"
    }
   ],
   "source": [
    "#k = range(0,16)\n",
    "\n",
    "plt.imshow(X[0].reshape(20,20), vmin=0, vmax=255, cmap=\"gray\")\n",
    "plt.show()"
   ]
  },
  {
   "cell_type": "markdown",
   "metadata": {},
   "source": [
    "# Model testing"
   ]
  },
  {
   "cell_type": "code",
   "execution_count": 55,
   "metadata": {},
   "outputs": [
    {
     "name": "stdout",
     "output_type": "stream",
     "text": [
      "(6883, 400) (6883,) (1475, 400)\n"
     ]
    }
   ],
   "source": [
    "from sklearn.model_selection import train_test_split\n",
    "\n",
    "#split data\n",
    "X_train, X_val_test, y_train, y_val_test = train_test_split(X,y,train_size=.7,random_state=seed)\n",
    "X_val,X_test,y_val,y_test = train_test_split(X_val_test,y_val_test, train_size=.5, random_state=seed)\n",
    "\n",
    "print(X_train.shape,y_train.shape,X_val.shape)"
   ]
  },
  {
   "cell_type": "markdown",
   "metadata": {},
   "source": [
    "# SVM"
   ]
  },
  {
   "cell_type": "code",
   "execution_count": 40,
   "metadata": {},
   "outputs": [
    {
     "name": "stdout",
     "output_type": "stream",
     "text": [
      "(6883, 400)\n",
      "Fitting 5 folds for each of 10 candidates, totalling 50 fits\n",
      "[CV] END ......................C=1.0, gamma=0.1, kernel=poly; total time=  22.8s\n",
      "[CV] END ......................C=1.0, gamma=0.1, kernel=poly; total time=  23.0s\n",
      "[CV] END ......................C=1.0, gamma=0.1, kernel=poly; total time=  23.1s\n",
      "[CV] END ......................C=100.0, gamma=1, kernel=poly; total time=  23.2s\n",
      "[CV] END ......................C=1.0, gamma=0.1, kernel=poly; total time=  23.2s\n",
      "[CV] END ......................C=1.0, gamma=0.1, kernel=poly; total time=  23.3s\n",
      "[CV] END ......................C=100.0, gamma=1, kernel=poly; total time=  23.4s\n",
      "[CV] END ......................C=100.0, gamma=1, kernel=poly; total time=  23.7s\n",
      "[CV] END ......................C=100.0, gamma=1, kernel=poly; total time=  21.6s\n",
      "[CV] END ......................C=100.0, gamma=1, kernel=poly; total time=  21.6s\n",
      "[CV] END ..................C=10.0, gamma=0.0001, kernel=poly; total time=  22.2s\n",
      "[CV] END ..................C=10.0, gamma=0.0001, kernel=poly; total time=  22.2s\n",
      "[CV] END ..................C=10.0, gamma=0.0001, kernel=poly; total time=  22.0s\n",
      "[CV] END ..................C=10.0, gamma=0.0001, kernel=poly; total time=  22.9s\n",
      "[CV] END ..................C=10.0, gamma=0.0001, kernel=poly; total time=  22.5s\n",
      "[CV] END ....................C=1.0, gamma=0.0001, kernel=rbf; total time= 2.0min\n",
      "[CV] END ....................C=1.0, gamma=0.0001, kernel=rbf; total time= 2.0min\n",
      "[CV] END ....................C=1.0, gamma=0.0001, kernel=rbf; total time= 2.0min\n",
      "[CV] END ....................C=1.0, gamma=0.0001, kernel=rbf; total time= 2.0min\n",
      "[CV] END ....................C=1.0, gamma=0.0001, kernel=rbf; total time= 2.0min\n",
      "[CV] END .................C=100.0, gamma=0.0001, kernel=poly; total time=  21.4s\n",
      "[CV] END .................C=100.0, gamma=0.0001, kernel=poly; total time=  22.1s\n",
      "[CV] END .................C=100.0, gamma=0.0001, kernel=poly; total time=  21.9s\n",
      "[CV] END ..................C=100.0, gamma=0.0001, kernel=rbf; total time= 2.0min\n",
      "[CV] END .................C=100.0, gamma=0.0001, kernel=poly; total time=  23.5s\n",
      "[CV] END .................C=100.0, gamma=0.0001, kernel=poly; total time=  24.0s\n",
      "[CV] END ..................C=100.0, gamma=0.0001, kernel=rbf; total time= 2.1min\n",
      "[CV] END ..................C=100.0, gamma=0.0001, kernel=rbf; total time= 2.0min\n",
      "[CV] END ...................C=1.0, gamma=0.0001, kernel=poly; total time=  22.0s\n",
      "[CV] END ...................C=1.0, gamma=0.0001, kernel=poly; total time=  22.3s\n",
      "[CV] END ..................C=100.0, gamma=0.0001, kernel=rbf; total time= 2.0min\n",
      "[CV] END ..................C=100.0, gamma=0.0001, kernel=rbf; total time= 2.0min\n",
      "[CV] END ...................C=1.0, gamma=0.0001, kernel=poly; total time=  22.2s\n",
      "[CV] END ...................C=1.0, gamma=0.0001, kernel=poly; total time=  22.1s\n",
      "[CV] END .........................C=1.0, gamma=1, kernel=rbf; total time= 2.0min\n",
      "[CV] END ...................C=1.0, gamma=0.0001, kernel=poly; total time=  22.3s\n",
      "[CV] END .........................C=1.0, gamma=1, kernel=rbf; total time= 2.0min\n",
      "[CV] END .........................C=1.0, gamma=1, kernel=rbf; total time= 2.0min\n",
      "[CV] END .........................C=1.0, gamma=1, kernel=rbf; total time= 2.0min\n",
      "[CV] END .........................C=1.0, gamma=1, kernel=rbf; total time= 2.0min\n",
      "[CV] END .....................C=100.0, gamma=0.1, kernel=rbf; total time= 2.0min\n",
      "[CV] END .....................C=100.0, gamma=0.1, kernel=rbf; total time= 2.0min\n",
      "[CV] END .....................C=100.0, gamma=0.1, kernel=rbf; total time= 2.0min\n",
      "[CV] END .....................C=100.0, gamma=0.1, kernel=rbf; total time= 2.0min\n",
      "[CV] END .....................C=100.0, gamma=0.1, kernel=rbf; total time= 1.9min\n",
      "[CV] END .................C=1000.0, gamma=0.0001, kernel=rbf; total time= 1.9min\n",
      "[CV] END .................C=1000.0, gamma=0.0001, kernel=rbf; total time= 1.9min\n",
      "[CV] END .................C=1000.0, gamma=0.0001, kernel=rbf; total time= 1.9min\n",
      "[CV] END .................C=1000.0, gamma=0.0001, kernel=rbf; total time= 1.4min\n",
      "[CV] END .................C=1000.0, gamma=0.0001, kernel=rbf; total time= 1.3min\n",
      "Best parameters: {'kernel': 'poly', 'gamma': 0.1, 'C': 1.0}\n",
      "Best cross-validation score: 0.9029500430663221\n"
     ]
    }
   ],
   "source": [
    "#quick and dirty >:)\n",
    "from sklearn.svm import SVC\n",
    "from sklearn.model_selection import RandomizedSearchCV\n",
    "#want proba for each cat\n",
    "svm = SVC(probability=True)\n",
    "print(X_train.shape)\n",
    "hyper_params = {\n",
    "    'C' : [1e3, 1e2, 1e1, 1e0],\n",
    "    'gamma' : [0.0001,0.001,0.1,1],\n",
    "    'kernel' : ['rbf','poly'],\n",
    "    #'coef0' : [0, 1, 2],\n",
    "}\n",
    "\n",
    "rscv = RandomizedSearchCV(estimator=svm,\n",
    "                    random_state=seed,\n",
    "                    param_distributions=hyper_params,\n",
    "                    scoring='accuracy',\n",
    "                    n_jobs=-1,\n",
    "                    verbose=2,\n",
    "                    cv = 5\n",
    "                    )\n",
    "\n",
    "\n",
    "rscv.fit(X_train,y_train)\n",
    "\n",
    "print(f\"Best parameters: {rscv.best_params_}\")\n",
    "print(f\"Best cross-validation score: {rscv.best_score_}\")"
   ]
  },
  {
   "cell_type": "code",
   "execution_count": 41,
   "metadata": {},
   "outputs": [
    {
     "name": "stdout",
     "output_type": "stream",
     "text": [
      "accuracy_score (on val): 0.90\n"
     ]
    }
   ],
   "source": [
    "from sklearn.metrics import accuracy_score\n",
    "\n",
    "best_svm = rscv.best_estimator_\n",
    "\n",
    "y_pred = best_svm.predict(X_val)\n",
    "accuracy = accuracy_score(y_val, y_pred)\n",
    "print(f\"accuracy_score (on val): {accuracy:.2f}\")"
   ]
  },
  {
   "cell_type": "markdown",
   "metadata": {},
   "source": [
    "# Using balanced dataset (w/ generated)"
   ]
  },
  {
   "cell_type": "code",
   "execution_count": 56,
   "metadata": {},
   "outputs": [
    {
     "name": "stdout",
     "output_type": "stream",
     "text": [
      "(11747, 400)\n"
     ]
    }
   ],
   "source": [
    "from preprocessing import generate_balanced_data\n",
    "#print(X_train.shape,y_train.shape)\n",
    "X_train_aug, y_train_aug = generate_balanced_data(X_train, y_train, seed=seed)\n",
    "print(X_train_aug.shape)"
   ]
  },
  {
   "cell_type": "code",
   "execution_count": 43,
   "metadata": {},
   "outputs": [
    {
     "name": "stdout",
     "output_type": "stream",
     "text": [
      "Fitting 5 folds for each of 10 candidates, totalling 50 fits\n",
      "[CV] END ......................C=1.0, gamma=0.1, kernel=poly; total time= 1.1min\n",
      "[CV] END ......................C=1.0, gamma=0.1, kernel=poly; total time= 1.2min\n",
      "[CV] END ......................C=100.0, gamma=1, kernel=poly; total time= 1.2min\n",
      "[CV] END ......................C=100.0, gamma=1, kernel=poly; total time= 1.2min\n",
      "[CV] END ......................C=1.0, gamma=0.1, kernel=poly; total time= 1.2min\n",
      "[CV] END ......................C=1.0, gamma=0.1, kernel=poly; total time= 1.2min\n",
      "[CV] END ......................C=100.0, gamma=1, kernel=poly; total time= 1.2min\n",
      "[CV] END ......................C=1.0, gamma=0.1, kernel=poly; total time= 1.2min\n",
      "[CV] END ......................C=100.0, gamma=1, kernel=poly; total time= 1.1min\n",
      "[CV] END ......................C=100.0, gamma=1, kernel=poly; total time= 1.2min\n",
      "[CV] END ..................C=10.0, gamma=0.0001, kernel=poly; total time= 1.2min\n",
      "[CV] END ..................C=10.0, gamma=0.0001, kernel=poly; total time= 1.2min\n",
      "[CV] END ..................C=10.0, gamma=0.0001, kernel=poly; total time= 1.2min\n",
      "[CV] END ..................C=10.0, gamma=0.0001, kernel=poly; total time= 1.1min\n",
      "[CV] END ..................C=10.0, gamma=0.0001, kernel=poly; total time= 1.0min\n",
      "[CV] END ....................C=1.0, gamma=0.0001, kernel=rbf; total time= 5.2min\n",
      "[CV] END ....................C=1.0, gamma=0.0001, kernel=rbf; total time= 5.2min\n",
      "[CV] END ....................C=1.0, gamma=0.0001, kernel=rbf; total time= 5.3min\n",
      "[CV] END ....................C=1.0, gamma=0.0001, kernel=rbf; total time= 5.3min\n",
      "[CV] END ....................C=1.0, gamma=0.0001, kernel=rbf; total time= 5.4min\n",
      "[CV] END .................C=100.0, gamma=0.0001, kernel=poly; total time= 1.1min\n",
      "[CV] END .................C=100.0, gamma=0.0001, kernel=poly; total time= 1.1min\n",
      "[CV] END .................C=100.0, gamma=0.0001, kernel=poly; total time= 1.1min\n",
      "[CV] END ..................C=100.0, gamma=0.0001, kernel=rbf; total time= 5.1min\n",
      "[CV] END .................C=100.0, gamma=0.0001, kernel=poly; total time= 1.0min\n",
      "[CV] END .................C=100.0, gamma=0.0001, kernel=poly; total time= 1.1min\n",
      "[CV] END ..................C=100.0, gamma=0.0001, kernel=rbf; total time= 5.4min\n",
      "[CV] END ..................C=100.0, gamma=0.0001, kernel=rbf; total time= 5.2min\n",
      "[CV] END ...................C=1.0, gamma=0.0001, kernel=poly; total time= 1.2min\n",
      "[CV] END ..................C=100.0, gamma=0.0001, kernel=rbf; total time= 5.4min\n",
      "[CV] END ..................C=100.0, gamma=0.0001, kernel=rbf; total time= 5.4min\n",
      "[CV] END ...................C=1.0, gamma=0.0001, kernel=poly; total time= 1.1min\n",
      "[CV] END ...................C=1.0, gamma=0.0001, kernel=poly; total time= 1.1min\n",
      "[CV] END ...................C=1.0, gamma=0.0001, kernel=poly; total time= 1.2min\n",
      "[CV] END ...................C=1.0, gamma=0.0001, kernel=poly; total time= 1.1min\n",
      "[CV] END .........................C=1.0, gamma=1, kernel=rbf; total time= 5.5min\n",
      "[CV] END .........................C=1.0, gamma=1, kernel=rbf; total time= 5.6min\n",
      "[CV] END .........................C=1.0, gamma=1, kernel=rbf; total time= 5.6min\n",
      "[CV] END .........................C=1.0, gamma=1, kernel=rbf; total time= 5.7min\n",
      "[CV] END .........................C=1.0, gamma=1, kernel=rbf; total time= 6.0min\n",
      "[CV] END .....................C=100.0, gamma=0.1, kernel=rbf; total time= 5.7min\n",
      "[CV] END .....................C=100.0, gamma=0.1, kernel=rbf; total time= 5.7min\n",
      "[CV] END .....................C=100.0, gamma=0.1, kernel=rbf; total time= 5.7min\n",
      "[CV] END .....................C=100.0, gamma=0.1, kernel=rbf; total time= 5.8min\n",
      "[CV] END .................C=1000.0, gamma=0.0001, kernel=rbf; total time= 5.2min\n",
      "[CV] END .................C=1000.0, gamma=0.0001, kernel=rbf; total time= 5.2min\n",
      "[CV] END .....................C=100.0, gamma=0.1, kernel=rbf; total time= 5.5min\n",
      "[CV] END .................C=1000.0, gamma=0.0001, kernel=rbf; total time= 5.2min\n",
      "[CV] END .................C=1000.0, gamma=0.0001, kernel=rbf; total time= 3.5min\n",
      "[CV] END .................C=1000.0, gamma=0.0001, kernel=rbf; total time= 3.5min\n",
      "Best parameters: {'kernel': 'poly', 'gamma': 0.1, 'C': 1.0}\n",
      "Best cross-validation score: 0.8430995172232638\n"
     ]
    }
   ],
   "source": [
    "svm_aug = SVC(probability=True)\n",
    "\n",
    "hyper_params = {\n",
    "    'C' : [1e3, 1e2, 1e1, 1e0],\n",
    "    'gamma' : [0.0001,0.001,0.1,1],\n",
    "    'kernel' : ['rbf','poly'],\n",
    "    #'coef0' : [0, 1, 2],\n",
    "}\n",
    "\n",
    "rscv = RandomizedSearchCV(estimator=svm_aug,\n",
    "                    random_state=seed,\n",
    "                    param_distributions=hyper_params,\n",
    "                    #param_grid=hyper_params,\n",
    "                    scoring='accuracy',\n",
    "                    n_jobs=-1,\n",
    "                    verbose=2,\n",
    "                    cv = 5\n",
    "                    )\n",
    "\n",
    "\n",
    "rscv.fit(X_train_aug,y_train_aug)\n",
    "\n",
    "print(f\"Best parameters: {rscv.best_params_}\")\n",
    "print(f\"Best cross-validation score: {rscv.best_score_}\")"
   ]
  },
  {
   "cell_type": "code",
   "execution_count": 60,
   "metadata": {},
   "outputs": [
    {
     "name": "stdout",
     "output_type": "stream",
     "text": [
      "accuracy_score (on val w/ aug): 0.89\n"
     ]
    }
   ],
   "source": [
    "best_svm_aug= rscv.best_estimator_\n",
    "y_pred_aug = best_svm_aug.predict(X_val)\n",
    "\n",
    "accuracy = accuracy_score(y_val, y_pred_aug)\n",
    "print(f\"accuracy_score (on val w/ aug): {accuracy:.2f}\")\n"
   ]
  },
  {
   "cell_type": "markdown",
   "metadata": {},
   "source": [
    "# Some troch/keras testing"
   ]
  },
  {
   "cell_type": "code",
   "execution_count": 44,
   "metadata": {},
   "outputs": [
    {
     "name": "stdout",
     "output_type": "stream",
     "text": [
      "(None, 18, 18, 16)\n",
      "(None, 9, 9, 16)\n",
      "(None, 7, 7, 32)\n",
      "(None, 3, 3, 32)\n",
      "(None, 17)\n",
      "Epoch 1/10\n",
      "216/216 [==============================] - 1s 2ms/step - loss: 3.9131 - accuracy: 0.4255\n",
      "Epoch 2/10\n",
      "216/216 [==============================] - 0s 2ms/step - loss: 0.8740 - accuracy: 0.7405\n",
      "Epoch 3/10\n",
      "216/216 [==============================] - 0s 2ms/step - loss: 0.5911 - accuracy: 0.8196\n",
      "Epoch 4/10\n",
      "216/216 [==============================] - 0s 2ms/step - loss: 0.4295 - accuracy: 0.8629\n",
      "Epoch 5/10\n",
      "216/216 [==============================] - 1s 3ms/step - loss: 0.3514 - accuracy: 0.8864\n",
      "Epoch 6/10\n",
      "216/216 [==============================] - 1s 2ms/step - loss: 0.2857 - accuracy: 0.9061\n",
      "Epoch 7/10\n",
      "216/216 [==============================] - 1s 2ms/step - loss: 0.2273 - accuracy: 0.9247\n",
      "Epoch 8/10\n",
      "216/216 [==============================] - 1s 2ms/step - loss: 0.2090 - accuracy: 0.9323\n",
      "Epoch 9/10\n",
      "216/216 [==============================] - 1s 3ms/step - loss: 0.1838 - accuracy: 0.9393\n",
      "Epoch 10/10\n",
      "216/216 [==============================] - 0s 2ms/step - loss: 0.1815 - accuracy: 0.9381\n",
      "47/47 [==============================] - 0s 853us/step - loss: 0.2538 - accuracy: 0.9261\n"
     ]
    }
   ],
   "source": [
    "#import torch\n",
    "#import torch.nn as nn\n",
    "#import torch.nn.functional as F\n",
    "#import keras\n",
    "from keras.layers import Convolution2D, MaxPooling2D, Dense, Dropout, Activation, Flatten\n",
    "#import tensorflow\n",
    "\n",
    "#reshape to single images 20x20\n",
    "X_train = X_train.reshape(X_train.shape[0], 20, 20, 1)\n",
    "X_train_aug = X_train_aug.reshape(X_train_aug.shape[0], 20, 20, 1)\n",
    "X_val = X_val.reshape(X_val.shape[0], 20, 20, 1)\n",
    "X_test = X_test.reshape(X_test.shape[0], 20, 20, 1)\n",
    "\n",
    "#might need reshape somehow ;--)\n",
    "#print(y_train[:16])\n",
    "\n",
    "#y_train = y_train.reshape\n",
    "\n",
    "#found online, rly cool func! (to_categorical)\n",
    "y_train = keras.utils.to_categorical(y_train, num_classes=17)\n",
    "y_val = keras.utils.to_categorical(y_val, num_classes=17)\n",
    "y_train_aug = keras.utils.to_categorical(y_train_aug, num_classes=17)\n",
    "\n",
    "#-----\n",
    "\n",
    "cnn = keras.Sequential()\n",
    "#add convulutional layer, filter should be pow2 (4 converging)\n",
    "cnn.add(Convolution2D(filters=16, kernel_size=(3,3), activation='relu', input_shape = (20,20,1)))\n",
    "print(cnn.output_shape)\n",
    "#add pooling layer (Downsampling)\n",
    "cnn.add(MaxPooling2D(pool_size=(2,2)))\n",
    "print(cnn.output_shape)\n",
    "cnn.add(Convolution2D(filters=32,kernel_size=(3,3), activation='relu'))\n",
    "print(cnn.output_shape)\n",
    "cnn.add(MaxPooling2D(pool_size=(2,2)))\n",
    "print(cnn.output_shape)\n",
    "#flatten outpu\n",
    "cnn.add(Flatten())\n",
    "#fully connected layer / back to std NN (kinda)\n",
    "cnn.add(Dense(128, activation='relu'))\n",
    "#dropout ensures no slacking!!\n",
    "cnn.add(Dropout(rate=.2))\n",
    "#output layer (softmax for probas)\n",
    "cnn.add(Dense(17,activation='softmax'))\n",
    "print(cnn.output_shape)\n",
    "cnn.compile(optimizer='adam', loss='categorical_crossentropy', metrics=['accuracy'])\n",
    "\n",
    "cnn.fit(X_train,y_train, epochs=10)\n",
    "score = cnn.evaluate(X_val,y_val,verbose=1)\n"
   ]
  },
  {
   "cell_type": "code",
   "execution_count": 45,
   "metadata": {},
   "outputs": [
    {
     "name": "stdout",
     "output_type": "stream",
     "text": [
      "Score on val data: loss = 0.2537826895713806, metric = 0.9261016845703125 \n"
     ]
    }
   ],
   "source": [
    "print(f\"Score on val data: loss = {score[0]}, metric = {score[1]} \")"
   ]
  },
  {
   "cell_type": "markdown",
   "metadata": {},
   "source": [
    "# with augmented data"
   ]
  },
  {
   "cell_type": "code",
   "execution_count": 46,
   "metadata": {},
   "outputs": [
    {
     "name": "stdout",
     "output_type": "stream",
     "text": [
      "Epoch 1/10\n",
      "368/368 [==============================] - 1s 2ms/step - loss: 0.5000 - accuracy: 0.8480\n",
      "Epoch 2/10\n",
      "368/368 [==============================] - 1s 2ms/step - loss: 0.3647 - accuracy: 0.8844\n",
      "Epoch 3/10\n",
      "368/368 [==============================] - 1s 2ms/step - loss: 0.3071 - accuracy: 0.8981\n",
      "Epoch 4/10\n",
      "368/368 [==============================] - 1s 3ms/step - loss: 0.2584 - accuracy: 0.9176\n",
      "Epoch 5/10\n",
      "368/368 [==============================] - 1s 2ms/step - loss: 0.2272 - accuracy: 0.9257\n",
      "Epoch 6/10\n",
      "368/368 [==============================] - 1s 2ms/step - loss: 0.2015 - accuracy: 0.9307\n",
      "Epoch 7/10\n",
      "368/368 [==============================] - 1s 2ms/step - loss: 0.1930 - accuracy: 0.9359\n",
      "Epoch 8/10\n",
      "368/368 [==============================] - 1s 2ms/step - loss: 0.1732 - accuracy: 0.9425\n",
      "Epoch 9/10\n",
      "368/368 [==============================] - 1s 2ms/step - loss: 0.1563 - accuracy: 0.9453\n",
      "Epoch 10/10\n",
      "368/368 [==============================] - 1s 2ms/step - loss: 0.1401 - accuracy: 0.9529\n",
      "47/47 [==============================] - 0s 872us/step - loss: 0.1783 - accuracy: 0.9532\n"
     ]
    }
   ],
   "source": [
    "#yo hello\n",
    "cnn.fit(X_train_aug,y_train_aug, epochs=10)\n",
    "score_aug = cnn.evaluate(X_val,y_val,verbose=1)"
   ]
  },
  {
   "cell_type": "code",
   "execution_count": 51,
   "metadata": {},
   "outputs": [
    {
     "name": "stdout",
     "output_type": "stream",
     "text": [
      "Score on val data(w/aug): loss = 0.17834694683551788, metric = 0.9532203674316406 \n"
     ]
    }
   ],
   "source": [
    "print(f\"Score on val data(w/aug): loss = {score_aug[0]}, metric = {score_aug[1]} \")"
   ]
  }
 ],
 "metadata": {
  "kernelspec": {
   "display_name": "INF264",
   "language": "python",
   "name": "python3"
  },
  "language_info": {
   "codemirror_mode": {
    "name": "ipython",
    "version": 3
   },
   "file_extension": ".py",
   "mimetype": "text/x-python",
   "name": "python",
   "nbconvert_exporter": "python",
   "pygments_lexer": "ipython3",
   "version": "3.11.10"
  }
 },
 "nbformat": 4,
 "nbformat_minor": 2
}
