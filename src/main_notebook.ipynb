{
 "cells": [
  {
   "cell_type": "markdown",
   "metadata": {},
   "source": [
    "# Project 2 - INF264\n",
    "*By Kim Austgulen and Fillip Lampe*"
   ]
  },
  {
   "cell_type": "markdown",
   "metadata": {},
   "source": [
    "Short overview on this file, this will mainly focus on the results and the basis of what we will write in our report. As we want to keep this file more clean, we have most of the code move into our import files."
   ]
  },
  {
   "cell_type": "code",
   "execution_count": 1,
   "metadata": {},
   "outputs": [],
   "source": [
    "import numpy as np"
   ]
  },
  {
   "cell_type": "code",
   "execution_count": 2,
   "metadata": {},
   "outputs": [],
   "source": [
    "seed = 42\n",
    "np.random.seed(seed)"
   ]
  },
  {
   "cell_type": "code",
   "execution_count": 3,
   "metadata": {},
   "outputs": [],
   "source": [
    "dataset = np.load('../data/dataset.npz')\n",
    "X, y = dataset['X'], dataset['y']"
   ]
  },
  {
   "cell_type": "markdown",
   "metadata": {},
   "source": [
    "## Task 1: "
   ]
  },
  {
   "cell_type": "code",
   "execution_count": 12,
   "metadata": {},
   "outputs": [
    {
     "name": "stdout",
     "output_type": "stream",
     "text": [
      "Fitting 3 folds for each of 1 candidates, totalling 3 fits\n",
      "[CV] END C=75.55750309950135, coef0=0.009839217559140079, degree=3, gamma=0.0010316674691784767, kernel=rbf, shrinking=True; total time=  19.1s\n",
      "[CV] END C=75.55750309950135, coef0=0.009839217559140079, degree=3, gamma=0.0010316674691784767, kernel=rbf, shrinking=True; total time=  18.7s\n",
      "[CV] END C=75.55750309950135, coef0=0.009839217559140079, degree=3, gamma=0.0010316674691784767, kernel=rbf, shrinking=True; total time=  16.1s\n",
      "---------- training is finished. ----------\n",
      "\n",
      "Random Search took 78.36 seconds\n",
      "Best Parameters: {'shrinking': True, 'kernel': 'rbf', 'gamma': 0.0010316674691784767, 'degree': 3, 'coef0': 0.009839217559140079, 'C': 75.55750309950135}\n",
      "Accuracy: 0.9105\n"
     ]
    }
   ],
   "source": [
    "# this will take around 7-8 min depending on the machine\n",
    "# our SVM model class\n",
    "from svm import SVM\n",
    "\n",
    "# it will split the data and preprocess it\n",
    "n = 1 # number of intervals for the rand search\n",
    "folds = 3 # number of folds for cross validation\n",
    "\n",
    "# this will by deafult not use pca\n",
    "svm = SVM(X, y, n, folds,seed=seed)\n",
    "svm.fit()\n",
    "svm_eval_info = svm.evaluate()\n"
   ]
  },
  {
   "cell_type": "code",
   "execution_count": 8,
   "metadata": {},
   "outputs": [
    {
     "name": "stdout",
     "output_type": "stream",
     "text": [
      "Evaluating model on validation data...\n",
      "Average loss: 0.0037, Accuracy: 0.9593\n",
      "Evaluating model on validation data...\n",
      "Average loss: 0.0033, Accuracy: 0.9559\n"
     ]
    }
   ],
   "source": [
    "# Our CNN models (PyTorch)\n",
    "from pytorch_cnn import CNN_PT\n",
    "\n",
    "#params must not be changed if you are gonna load the model\n",
    "n = 5 # number of intervals for the rand search\n",
    "folds = 3 # number of folds for cross validation\n",
    "epochs = 10 # number of epochs for training\n",
    "batch_size = 32 # batch size for training\n",
    "path = '../other/' # path to save the models\n",
    "\n",
    "# fit is removed as it is not reproducable\n",
    "lenet_cnn_pt = CNN_PT(X, y, folds, seed, epochs, batch_size, path, model='lenet')\n",
    "#lenet_cnn_pt.fit() # remove if you wanat to train the model\n",
    "lenet_eval_info = lenet_cnn_pt.evaluate(load=True)\n",
    "\n",
    "# fair warning this takes a while\n",
    "# fit is removed as it is not reproducable\n",
    "alexnet_cnn_pt = CNN_PT(X, y, folds, seed, epochs, batch_size, path, model='alexnet')\n",
    "#alexnet_cnn_pt.fit() # remove if you wanat to train the model\n",
    "alexnet_eval_info = alexnet_cnn_pt.evaluate(load=True)\n"
   ]
  },
  {
   "cell_type": "code",
   "execution_count": 7,
   "metadata": {},
   "outputs": [
    {
     "name": "stdout",
     "output_type": "stream",
     "text": [
      "Fitting 3 folds for each of 5 candidates, totalling 15 fits\n",
      "[CV] END bootstrap=True, max_depth=None, max_features=sqrt, min_samples_leaf=3, min_samples_split=4, n_estimators=103; total time=  11.6s\n",
      "[CV] END bootstrap=True, max_depth=None, max_features=sqrt, min_samples_leaf=3, min_samples_split=4, n_estimators=103; total time=  11.8s\n",
      "[CV] END bootstrap=True, max_depth=None, max_features=sqrt, min_samples_leaf=3, min_samples_split=4, n_estimators=103; total time=  12.1s\n",
      "[CV] END bootstrap=True, max_depth=20, max_features=log2, min_samples_leaf=1, min_samples_split=5, n_estimators=261; total time=  12.6s\n",
      "[CV] END bootstrap=True, max_depth=20, max_features=log2, min_samples_leaf=1, min_samples_split=5, n_estimators=261; total time=  13.0s\n",
      "[CV] END bootstrap=True, max_depth=20, max_features=log2, min_samples_leaf=1, min_samples_split=5, n_estimators=261; total time=  13.0s\n",
      "[CV] END bootstrap=True, max_depth=None, max_features=log2, min_samples_leaf=1, min_samples_split=3, n_estimators=162; total time=   8.3s\n",
      "[CV] END bootstrap=True, max_depth=None, max_features=log2, min_samples_leaf=1, min_samples_split=3, n_estimators=162; total time=   8.2s\n",
      "[CV] END bootstrap=True, max_depth=None, max_features=log2, min_samples_leaf=1, min_samples_split=3, n_estimators=162; total time=   8.2s\n",
      "[CV] END bootstrap=False, max_depth=20, max_features=log2, min_samples_leaf=1, min_samples_split=3, n_estimators=215; total time=  17.1s\n",
      "[CV] END bootstrap=False, max_depth=20, max_features=log2, min_samples_leaf=1, min_samples_split=3, n_estimators=215; total time=  16.7s\n",
      "[CV] END bootstrap=False, max_depth=20, max_features=log2, min_samples_leaf=1, min_samples_split=3, n_estimators=215; total time=  17.1s\n",
      "[CV] END bootstrap=True, max_depth=10, max_features=sqrt, min_samples_leaf=3, min_samples_split=2, n_estimators=190; total time=  18.0s\n",
      "[CV] END bootstrap=True, max_depth=10, max_features=sqrt, min_samples_leaf=3, min_samples_split=2, n_estimators=190; total time=  18.0s\n",
      "[CV] END bootstrap=True, max_depth=10, max_features=sqrt, min_samples_leaf=3, min_samples_split=2, n_estimators=190; total time=  17.5s\n",
      "---------- training is finished. ----------\n",
      "\n",
      "Random Search took 231.27 seconds\n",
      "Best Parameters: {'n_estimators': 215, 'min_samples_split': 3, 'min_samples_leaf': 1, 'max_features': 'log2', 'max_depth': 20, 'bootstrap': False}\n",
      "Accuracy: 0.8990\n"
     ]
    }
   ],
   "source": [
    "from random_forest import RandomForest\n",
    "\n",
    "folds = 3 # number of folds for cross validation\n",
    "n = 5 # number of intervals for the\n",
    "bagging_n = 2 \n",
    "\n",
    "randomforest = RandomForest(X, y, n, folds, seed)\n",
    "randomforest.fit()\n",
    "randomforest_eval_info = randomforest.evaluate()"
   ]
  },
  {
   "cell_type": "code",
   "execution_count": 6,
   "metadata": {},
   "outputs": [],
   "source": [
    "# Our CNN models (Keras)\n",
    "# kim will cook up some code here"
   ]
  },
  {
   "cell_type": "code",
   "execution_count": 13,
   "metadata": {},
   "outputs": [
    {
     "data": {
      "image/png": "[encoded data removed]",
      "text/plain": [
       "<Figure size 800x600 with 1 Axes>"
      ]
     },
     "metadata": {},
     "output_type": "display_data"
    }
   ],
   "source": [
    "from visiualising import compare_model_accuracy\n",
    "\n",
    "labels = ['SVM', 'LeNet_PT', 'AlexNet_PT', 'RandomForest']\n",
    "compare_model_accuracy(\n",
    "    labels, \n",
    "    svm_eval_info[1], \n",
    "    lenet_eval_info[1], \n",
    "    alexnet_eval_info[1],\n",
    "    randomforest_eval_info[1]\n",
    "    )"
   ]
  },
  {
   "cell_type": "code",
   "execution_count": 10,
   "metadata": {},
   "outputs": [
    {
     "name": "stdout",
     "output_type": "stream",
     "text": [
      "The model with the best accuracy is LeNet_PT with an accuracy of 0.96\n"
     ]
    }
   ],
   "source": [
    "# Extract the accuracy values\n",
    "accuracies = {\n",
    "    'SVM': svm_eval_info[1],\n",
    "    'LeNet_PT': lenet_eval_info[1],\n",
    "    'AlexNet_PT': alexnet_eval_info[1]\n",
    "}\n",
    "\n",
    "# Find the model with the best accuracy\n",
    "best_model = max(accuracies, key=accuracies.get)\n",
    "best_accuracy = accuracies[best_model]\n",
    "\n",
    "print(f\"The model with the best accuracy is {best_model} with an accuracy of {best_accuracy:.2f}\")"
   ]
  },
  {
   "cell_type": "markdown",
   "metadata": {},
   "source": [
    "Small differences in hardware, like using different CPUs, can result in slightly different floating-point arithmetic, affecting model performance across runs. Due to these reproducability issues it is better to choose svm "
   ]
  },
  {
   "cell_type": "markdown",
   "metadata": {},
   "source": [
    "## Task 2:"
   ]
  },
  {
   "cell_type": "code",
   "execution_count": 8,
   "metadata": {},
   "outputs": [
    {
     "name": "stdout",
     "output_type": "stream",
     "text": [
      "Starting PCA training...\n",
      "\n",
      "--Training with 0.90 components 1/3--\n",
      "Data went from (11747, 576) to (11747, 158)\n",
      "Fitting 3 folds for each of 3 candidates, totalling 9 fits\n",
      "[CV] END C=73.8459779302997, coef0=0.7790496653525528, degree=2, gamma=0.01135265110257893, kernel=poly, shrinking=True; total time=   5.4s\n",
      "[CV] END C=73.8459779302997, coef0=0.7790496653525528, degree=2, gamma=0.01135265110257893, kernel=poly, shrinking=True; total time=   5.3s\n",
      "[CV] END C=73.8459779302997, coef0=0.7790496653525528, degree=2, gamma=0.01135265110257893, kernel=poly, shrinking=True; total time=   5.0s\n",
      "[CV] END C=74.12697052371779, coef0=0.948989844346279, degree=4, gamma=0.05713791454146769, kernel=rbf, shrinking=False; total time=  15.4s\n",
      "[CV] END C=74.12697052371779, coef0=0.948989844346279, degree=4, gamma=0.05713791454146769, kernel=rbf, shrinking=False; total time=  16.1s\n",
      "[CV] END C=74.12697052371779, coef0=0.948989844346279, degree=4, gamma=0.05713791454146769, kernel=rbf, shrinking=False; total time=  15.3s\n",
      "[CV] END C=48.555182044078585, coef0=0.0479240164719994, degree=4, gamma=0.07130252038962495, kernel=sigmoid, shrinking=True; total time=   4.3s\n",
      "[CV] END C=48.555182044078585, coef0=0.0479240164719994, degree=4, gamma=0.07130252038962495, kernel=sigmoid, shrinking=True; total time=   4.0s\n",
      "[CV] END C=48.555182044078585, coef0=0.0479240164719994, degree=4, gamma=0.07130252038962495, kernel=sigmoid, shrinking=True; total time=   3.4s\n",
      "Random Search for 0.90 took 102.52 s\n",
      "\n",
      "--Training with 0.95 components 2/3--\n",
      "Data went from (11747, 576) to (11747, 187)\n",
      "Fitting 3 folds for each of 3 candidates, totalling 9 fits\n",
      "[CV] END C=73.8459779302997, coef0=0.7790496653525528, degree=2, gamma=0.01135265110257893, kernel=poly, shrinking=True; total time=   6.4s\n",
      "[CV] END C=73.8459779302997, coef0=0.7790496653525528, degree=2, gamma=0.01135265110257893, kernel=poly, shrinking=True; total time=   6.4s\n",
      "[CV] END C=73.8459779302997, coef0=0.7790496653525528, degree=2, gamma=0.01135265110257893, kernel=poly, shrinking=True; total time=   5.9s\n",
      "[CV] END C=74.12697052371779, coef0=0.948989844346279, degree=4, gamma=0.05713791454146769, kernel=rbf, shrinking=False; total time=  20.2s\n",
      "[CV] END C=74.12697052371779, coef0=0.948989844346279, degree=4, gamma=0.05713791454146769, kernel=rbf, shrinking=False; total time=  19.7s\n",
      "[CV] END C=74.12697052371779, coef0=0.948989844346279, degree=4, gamma=0.05713791454146769, kernel=rbf, shrinking=False; total time=  18.3s\n",
      "[CV] END C=48.555182044078585, coef0=0.0479240164719994, degree=4, gamma=0.07130252038962495, kernel=sigmoid, shrinking=True; total time=   4.7s\n",
      "[CV] END C=48.555182044078585, coef0=0.0479240164719994, degree=4, gamma=0.07130252038962495, kernel=sigmoid, shrinking=True; total time=   4.6s\n",
      "[CV] END C=48.555182044078585, coef0=0.0479240164719994, degree=4, gamma=0.07130252038962495, kernel=sigmoid, shrinking=True; total time=   4.2s\n",
      "Random Search for 0.95 took 126.29 s\n",
      "\n",
      "--Training with 0.99 components 3/3--\n",
      "Data went from (11747, 576) to (11747, 283)\n",
      "Fitting 3 folds for each of 3 candidates, totalling 9 fits\n",
      "[CV] END C=73.8459779302997, coef0=0.7790496653525528, degree=2, gamma=0.01135265110257893, kernel=poly, shrinking=True; total time=   8.8s\n",
      "[CV] END C=73.8459779302997, coef0=0.7790496653525528, degree=2, gamma=0.01135265110257893, kernel=poly, shrinking=True; total time=   8.7s\n",
      "[CV] END C=73.8459779302997, coef0=0.7790496653525528, degree=2, gamma=0.01135265110257893, kernel=poly, shrinking=True; total time=   8.5s\n",
      "[CV] END C=74.12697052371779, coef0=0.948989844346279, degree=4, gamma=0.05713791454146769, kernel=rbf, shrinking=False; total time=  28.4s\n",
      "[CV] END C=74.12697052371779, coef0=0.948989844346279, degree=4, gamma=0.05713791454146769, kernel=rbf, shrinking=False; total time=  26.3s\n",
      "[CV] END C=74.12697052371779, coef0=0.948989844346279, degree=4, gamma=0.05713791454146769, kernel=rbf, shrinking=False; total time=  33.9s\n",
      "[CV] END C=48.555182044078585, coef0=0.0479240164719994, degree=4, gamma=0.07130252038962495, kernel=sigmoid, shrinking=True; total time=   7.1s\n",
      "[CV] END C=48.555182044078585, coef0=0.0479240164719994, degree=4, gamma=0.07130252038962495, kernel=sigmoid, shrinking=True; total time=   6.8s\n",
      "[CV] END C=48.555182044078585, coef0=0.0479240164719994, degree=4, gamma=0.07130252038962495, kernel=sigmoid, shrinking=True; total time=   6.1s\n",
      "Random Search for 0.99 took 192.50 s\n",
      "Accuracy: 0.9369\n"
     ]
    }
   ],
   "source": [
    "# Our SVM model with PCA\n",
    "n = 3 # number of intervals for the rand search\n",
    "folds = 3 # number of folds for cross validation\n",
    "pca_n = 3 # number of pca components it will test\n",
    "\n",
    "svm_pca = SVM(X, y, n, folds, pca_n, seed=seed, pca=True)\n",
    "svm_pca.fit()\n",
    "svm_pca_eval_info = svm_pca.evaluate()"
   ]
  }
 ],
 "metadata": {
  "kernelspec": {
   "display_name": "Python 3",
   "language": "python",
   "name": "python3"
  },
  "language_info": {
   "codemirror_mode": {
    "name": "ipython",
    "version": 3
   },
   "file_extension": ".py",
   "mimetype": "text/x-python",
   "name": "python",
   "nbconvert_exporter": "python",
   "pygments_lexer": "ipython3",
   "version": "3.11.4"
  }
 },
 "nbformat": 4,
 "nbformat_minor": 2
}
