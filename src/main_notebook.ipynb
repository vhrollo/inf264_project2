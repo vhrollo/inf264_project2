{
 "cells": [
  {
   "cell_type": "markdown",
   "metadata": {},
   "source": [
    "# Project 2 - INF264\n",
    "*By Kim Austgulen and Fillip Lampe*"
   ]
  },
  {
   "cell_type": "markdown",
   "metadata": {},
   "source": [
    "Short overview on this file, this will mainly focus on the results and the basis of what we will write in our report. As we want to keep this file more clean, we have most of the code move into our import files."
   ]
  },
  {
   "cell_type": "code",
   "execution_count": 8,
   "metadata": {},
   "outputs": [],
   "source": [
    "import numpy as np"
   ]
  },
  {
   "cell_type": "code",
   "execution_count": 9,
   "metadata": {},
   "outputs": [],
   "source": [
    "seed = 42\n",
    "np.random.seed(seed)"
   ]
  },
  {
   "cell_type": "code",
   "execution_count": 10,
   "metadata": {},
   "outputs": [],
   "source": [
    "dataset = np.load('../data/dataset.npz')\n",
    "X, y = dataset['X'], dataset['y']"
   ]
  },
  {
   "cell_type": "code",
   "execution_count": 11,
   "metadata": {},
   "outputs": [
    {
     "name": "stdout",
     "output_type": "stream",
     "text": [
      "Fitting 3 folds for each of 5 candidates, totalling 15 fits\n",
      "[CV] END C=75.55750309950135, coef0=0.009839217559140079, degree=3, gamma=0.0010316674691784767, kernel=rbf, shrinking=True; total time=  18.6s\n",
      "[CV] END C=75.55750309950135, coef0=0.009839217559140079, degree=3, gamma=0.0010316674691784767, kernel=rbf, shrinking=True; total time=  17.0s\n",
      "[CV] END C=75.55750309950135, coef0=0.009839217559140079, degree=3, gamma=0.0010316674691784767, kernel=rbf, shrinking=True; total time=  15.9s\n",
      "[CV] END C=49.54996649841286, coef0=0.1292895346498787, degree=2, gamma=0.03946091208914357, kernel=rbf, shrinking=True; total time=  38.4s\n",
      "[CV] END C=49.54996649841286, coef0=0.1292895346498787, degree=2, gamma=0.03946091208914357, kernel=rbf, shrinking=True; total time=  37.8s\n",
      "[CV] END C=49.54996649841286, coef0=0.1292895346498787, degree=2, gamma=0.03946091208914357, kernel=rbf, shrinking=True; total time=  33.9s\n",
      "[CV] END C=16.99268627803484, coef0=0.009839217559140079, degree=3, gamma=0.058684927748564764, kernel=sigmoid, shrinking=False; total time=  16.7s\n",
      "[CV] END C=16.99268627803484, coef0=0.009839217559140079, degree=3, gamma=0.058684927748564764, kernel=sigmoid, shrinking=False; total time=  15.9s\n",
      "[CV] END C=16.99268627803484, coef0=0.009839217559140079, degree=3, gamma=0.058684927748564764, kernel=sigmoid, shrinking=False; total time=  14.3s\n",
      "[CV] END C=35.73167879822943, coef0=0.6949628998976771, degree=3, gamma=0.04071552891286507, kernel=rbf, shrinking=True; total time=  37.7s\n",
      "[CV] END C=35.73167879822943, coef0=0.6949628998976771, degree=3, gamma=0.04071552891286507, kernel=rbf, shrinking=True; total time=  36.9s\n",
      "[CV] END C=35.73167879822943, coef0=0.6949628998976771, degree=3, gamma=0.04071552891286507, kernel=rbf, shrinking=True; total time=  34.4s\n",
      "[CV] END C=25.027443228525833, coef0=0.5717131940201647, degree=2, gamma=0.04931100953662721, kernel=rbf, shrinking=False; total time=  42.4s\n",
      "[CV] END C=25.027443228525833, coef0=0.5717131940201647, degree=2, gamma=0.04931100953662721, kernel=rbf, shrinking=False; total time=  42.5s\n",
      "[CV] END C=25.027443228525833, coef0=0.5717131940201647, degree=2, gamma=0.04931100953662721, kernel=rbf, shrinking=False; total time=  41.9s\n",
      "---------- training is finished. ----------\n",
      "\n",
      "Random Search took 499.56 seconds\n",
      "Best Parameters: {'shrinking': True, 'kernel': 'rbf', 'gamma': 0.03946091208914357, 'degree': 2, 'coef0': 0.1292895346498787, 'C': 49.54996649841286}\n",
      "Accuracy: 0.9363\n"
     ]
    }
   ],
   "source": [
    "# this will take around 7-8 min depending on the machine\n",
    "# our SVM model class\n",
    "from svm import SVM\n",
    "\n",
    "# it will split the data and preprocess it\n",
    "n = 5 # number of intervals for the rand search\n",
    "folds = 3 # number of folds for cross validation\n",
    "\n",
    "# this will by deafult not use pca\n",
    "svm = SVM(X, y, n, folds,seed=seed)\n",
    "svm.fit()\n",
    "svm_eval_info = svm.evaluate()\n"
   ]
  },
  {
   "cell_type": "code",
   "execution_count": 12,
   "metadata": {},
   "outputs": [
    {
     "name": "stdout",
     "output_type": "stream",
     "text": [
      "Evaluating model on validation data...\n",
      "Average loss: 0.0037, Accuracy: 0.9593\n",
      "Evaluating model on validation data...\n",
      "Average loss: 0.0033, Accuracy: 0.9559\n"
     ]
    }
   ],
   "source": [
    "# Our CNN models (PyTorch)\n",
    "from pytorch_cnn import CNN_PT\n",
    "\n",
    "#params must not be changed if you are gonna load the model\n",
    "n = 5 # number of intervals for the rand search\n",
    "folds = 3 # number of folds for cross validation\n",
    "epochs = 10 # number of epochs for training\n",
    "batch_size = 32 # batch size for training\n",
    "path = '../other/' # path to save the models\n",
    "\n",
    "# fit is removed as it is not reproducable\n",
    "lenet_cnn_pt = CNN_PT(X, y, folds, seed, epochs, batch_size, path, model='lenet')\n",
    "#lenet_cnn_pt.fit()\n",
    "lenet_eval_info = lenet_cnn_pt.evaluate(load=True)\n",
    "\n",
    "# fit is removed as it is not reproducable\n",
    "alexnet_cnn_pt = CNN_PT(X, y, folds, seed, epochs, batch_size, path, model='alexnet')\n",
    "#alexnet_cnn_pt.fit()\n",
    "alexnet_eval_info = alexnet_cnn_pt.evaluate(load=True)\n"
   ]
  },
  {
   "cell_type": "code",
   "execution_count": 13,
   "metadata": {},
   "outputs": [],
   "source": [
    "# Our CNN models (Keras)\n",
    "# kim will cook up some code here"
   ]
  },
  {
   "cell_type": "code",
   "execution_count": 14,
   "metadata": {},
   "outputs": [
    {
     "data": {
      "image/png": "[encoded data removed]",
      "text/plain": [
       "<Figure size 800x600 with 1 Axes>"
      ]
     },
     "metadata": {},
     "output_type": "display_data"
    }
   ],
   "source": [
    "from visiualising import compare_model_accuracy\n",
    "\n",
    "compare_model_accuracy(svm_eval_info[1], lenet_eval_info[1], alexnet_eval_info[1])"
   ]
  }
 ],
 "metadata": {
  "kernelspec": {
   "display_name": "Python 3",
   "language": "python",
   "name": "python3"
  },
  "language_info": {
   "codemirror_mode": {
    "name": "ipython",
    "version": 3
   },
   "file_extension": ".py",
   "mimetype": "text/x-python",
   "name": "python",
   "nbconvert_exporter": "python",
   "pygments_lexer": "ipython3",
   "version": "3.11.4"
  }
 },
 "nbformat": 4,
 "nbformat_minor": 2
}
