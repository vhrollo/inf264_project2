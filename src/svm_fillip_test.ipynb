{
 "cells": [
  {
   "cell_type": "markdown",
   "metadata": {},
   "source": [
    "# test svm fillip"
   ]
  },
  {
   "cell_type": "code",
   "execution_count": 30,
   "metadata": {},
   "outputs": [],
   "source": [
    "import numpy as np\n",
    "from sklearn.preprocessing import StandardScaler\n",
    "from sklearn.decomposition import PCA\n",
    "from sklearn.svm import SVC\n",
    "from sklearn.model_selection import train_test_split, RandomizedSearchCV, cross_val_score\n",
    "from sklearn.metrics import classification_report\n",
    "from preprocessing import generate_balanced_data"
   ]
  },
  {
   "cell_type": "code",
   "execution_count": 23,
   "metadata": {},
   "outputs": [],
   "source": [
    "seed = 42"
   ]
  },
  {
   "cell_type": "code",
   "execution_count": 24,
   "metadata": {},
   "outputs": [
    {
     "name": "stdout",
     "output_type": "stream",
     "text": [
      "Training data shape: (6883, 400), (6883,)\n",
      "Validation data shape: (1475, 400), (1475,)\n",
      "Test data shape: (1476, 400), (1476,)\n"
     ]
    }
   ],
   "source": [
    "dataset = np.load('../data/dataset.npz')\n",
    "X, y  = dataset['X'], dataset['y']\n",
    "\n",
    "X_train, X_temp, y_train, y_temp = train_test_split(\n",
    "    X, y, train_size=0.7, random_state=seed, stratify=y # so we maintain class distribution\n",
    ")\n",
    "X_val, X_test, y_val, y_test = train_test_split(\n",
    "    X_temp, y_temp, train_size=0.5, random_state=seed, stratify=y_temp\n",
    ")\n",
    "\n",
    "print(f\"Training data shape: {X_train.shape}, {y_train.shape}\")\n",
    "print(f\"Validation data shape: {X_val.shape}, {y_val.shape}\")\n",
    "print(f\"Test data shape: {X_test.shape}, {y_test.shape}\")\n",
    "\n",
    "\n",
    "X_train, y_train = generate_balanced_data(X_train, y_train, seed=seed)\n",
    "scaler = StandardScaler()\n",
    "X_train = scaler.fit_transform(X_train)\n",
    "X_test = scaler.transform(X_test)"
   ]
  },
  {
   "cell_type": "code",
   "execution_count": 25,
   "metadata": {},
   "outputs": [
    {
     "name": "stdout",
     "output_type": "stream",
     "text": [
      "Best Parameters: {'kernel': 'rbf', 'gamma': 'auto', 'C': 10}\n"
     ]
    }
   ],
   "source": [
    "param_grid = {\n",
    "    'C': [0.1, 1, 10, 100, 1000],\n",
    "    'gamma': [1e-3, 1e-4, 'scale', 'auto'],\n",
    "    'kernel': ['rbf']\n",
    "}\n",
    "svc = SVC(kernel='rbf', random_state=42)\n",
    "random_search = RandomizedSearchCV(svc, param_grid, n_iter=10, cv=5, random_state=seed, n_jobs=-1)\n",
    "random_search.fit(X_train, y_train)\n",
    "\n",
    "print(f\"Best Parameters: {random_search.best_params_}\")\n"
   ]
  },
  {
   "cell_type": "code",
   "execution_count": 26,
   "metadata": {},
   "outputs": [
    {
     "name": "stdout",
     "output_type": "stream",
     "text": [
      "              precision    recall  f1-score   support\n",
      "\n",
      "           0       0.93      0.86      0.90        94\n",
      "           1       0.85      1.00      0.92        34\n",
      "           2       0.86      0.94      0.90        79\n",
      "           3       0.97      0.96      0.96       143\n",
      "           4       0.88      0.89      0.89        75\n",
      "           5       0.93      0.91      0.92       105\n",
      "           6       0.98      0.96      0.97       137\n",
      "           7       0.91      0.93      0.92        91\n",
      "           8       0.93      0.88      0.90        64\n",
      "           9       0.79      0.90      0.84        30\n",
      "          10       0.94      0.90      0.92       124\n",
      "          11       0.86      0.86      0.86        79\n",
      "          12       0.96      0.95      0.95       143\n",
      "          13       0.91      0.91      0.91       137\n",
      "          14       0.90      0.82      0.86        11\n",
      "          15       0.82      0.88      0.85        67\n",
      "          16       1.00      1.00      1.00        63\n",
      "\n",
      "    accuracy                           0.92      1476\n",
      "   macro avg       0.91      0.92      0.91      1476\n",
      "weighted avg       0.92      0.92      0.92      1476\n",
      "\n"
     ]
    }
   ],
   "source": [
    "best_svc = random_search.best_estimator_\n",
    "y_pred = best_svc.predict(X_test)\n",
    "\n",
    "print(classification_report(y_test, y_pred))"
   ]
  },
  {
   "cell_type": "code",
   "execution_count": 27,
   "metadata": {},
   "outputs": [
    {
     "name": "stdout",
     "output_type": "stream",
     "text": [
      "Best Parameters: {'kernel': 'rbf', 'gamma': 'auto', 'C': 100}\n"
     ]
    }
   ],
   "source": [
    "pca = PCA(n_components=0.95)\n",
    "X_train = pca.fit_transform(X_train)\n",
    "X_test = pca.transform(X_test)\n",
    "\n",
    "random_search = RandomizedSearchCV(svc, param_grid, n_iter=10, cv=5, random_state=seed, n_jobs=-1)\n",
    "random_search.fit(X_train, y_train)\n",
    "\n",
    "print(f\"Best Parameters: {random_search.best_params_}\")"
   ]
  },
  {
   "cell_type": "code",
   "execution_count": 28,
   "metadata": {},
   "outputs": [
    {
     "name": "stdout",
     "output_type": "stream",
     "text": [
      "              precision    recall  f1-score   support\n",
      "\n",
      "           0       0.93      0.86      0.90        94\n",
      "           1       0.89      1.00      0.94        34\n",
      "           2       0.88      0.94      0.91        79\n",
      "           3       0.99      0.97      0.98       143\n",
      "           4       0.86      0.89      0.88        75\n",
      "           5       0.94      0.93      0.94       105\n",
      "           6       0.99      0.98      0.98       137\n",
      "           7       0.93      0.93      0.93        91\n",
      "           8       0.92      0.91      0.91        64\n",
      "           9       0.88      0.93      0.90        30\n",
      "          10       0.93      0.91      0.92       124\n",
      "          11       0.87      0.86      0.87        79\n",
      "          12       0.95      0.95      0.95       143\n",
      "          13       0.93      0.93      0.93       137\n",
      "          14       0.75      0.82      0.78        11\n",
      "          15       0.90      0.91      0.90        67\n",
      "          16       1.00      1.00      1.00        63\n",
      "\n",
      "    accuracy                           0.93      1476\n",
      "   macro avg       0.91      0.93      0.92      1476\n",
      "weighted avg       0.93      0.93      0.93      1476\n",
      "\n"
     ]
    }
   ],
   "source": [
    "best_svc = random_search.best_estimator_\n",
    "y_pred = best_svc.predict(X_test)\n",
    "\n",
    "print(classification_report(y_test, y_pred))"
   ]
  },
  {
   "cell_type": "code",
   "execution_count": 31,
   "metadata": {},
   "outputs": [
    {
     "name": "stdout",
     "output_type": "stream",
     "text": [
      "n_components: 20, Cross-validation accuracy: 0.85\n",
      "n_components: 30, Cross-validation accuracy: 0.86\n",
      "n_components: 50, Cross-validation accuracy: 0.87\n",
      "n_components: 64, Cross-validation accuracy: 0.87\n",
      "n_components: 80, Cross-validation accuracy: 0.86\n",
      "n_components: 100, Cross-validation accuracy: 0.86\n",
      "n_components: 150, Cross-validation accuracy: 0.85\n"
     ]
    }
   ],
   "source": [
    "components_range = [20, 30, 50, 64, 80, 100, 150]\n",
    "for n in components_range:\n",
    "    pca = PCA(n_components=n)\n",
    "    X_train_pca = pca.fit_transform(X_train)\n",
    "    svc = SVC(kernel='rbf', C=10, gamma='scale', random_state=42)\n",
    "    scores = cross_val_score(svc, X_train_pca, y_train, cv=3)\n",
    "    print(f\"n_components: {n}, Cross-validation accuracy: {np.mean(scores):.2f}\")"
   ]
  }
 ],
 "metadata": {
  "kernelspec": {
   "display_name": "Python 3",
   "language": "python",
   "name": "python3"
  },
  "language_info": {
   "codemirror_mode": {
    "name": "ipython",
    "version": 3
   },
   "file_extension": ".py",
   "mimetype": "text/x-python",
   "name": "python",
   "nbconvert_exporter": "python",
   "pygments_lexer": "ipython3",
   "version": "3.11.4"
  }
 },
 "nbformat": 4,
 "nbformat_minor": 2
}
